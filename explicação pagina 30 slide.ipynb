{
 "cells": [
  {
   "cell_type": "code",
   "execution_count": 19,
   "metadata": {},
   "outputs": [],
   "source": [
    "from IPython.display import Image\n",
    "import numpy as np\n",
    "import numpy.random as npr"
   ]
  },
  {
   "cell_type": "markdown",
   "metadata": {},
   "source": [
    "a função arange funciona como um gerado de numeros para um determinado intervalo,a função nao inclue o limite superior.no codigo abaixo e usada a função arrange para gera uma sequencia de valores de um determinado intervalo (0 a 4) e salvo na variavel 'a', cada posiçao desse e vetor e multiplicado por 23,4 e salvo em um vetor 'b', apos isso os valores do vetor 'b' sao divididos pelos valores do vetor 'a'+1, e salvo no vetor c e adicionado +10  a cada pisição."
   ]
  },
  {
   "cell_type": "code",
   "execution_count": 57,
   "metadata": {},
   "outputs": [
    {
     "name": "stdout",
     "output_type": "stream",
     "text": [
      "[10.   21.7  25.6  27.55]\n"
     ]
    }
   ],
   "source": [
    "a = np.arange(4.0)\n",
    "b = a * 23.4\n",
    "c = b/(a+1)\n",
    "c += 10 \n",
    "print (c)\n"
   ]
  },
  {
   "cell_type": "markdown",
   "metadata": {},
   "source": [
    "e possivel manipula vetores para que um seja o indice do vetor  como no caso abaixo ."
   ]
  },
  {
   "cell_type": "code",
   "execution_count": 58,
   "metadata": {},
   "outputs": [
    {
     "name": "stdout",
     "output_type": "stream",
     "text": [
      "[105 125 150 175 195]\n"
     ]
    }
   ],
   "source": [
    "arr = np.arange(100, 200)\n",
    "select = [5, 25, 50, 75, -5]\n",
    "print(arr[select])"
   ]
  },
  {
   "cell_type": "markdown",
   "metadata": {},
   "source": [
    "e possivel fazer operaçoes de comparaçoes boleanos com vetores nesse caso ao apresenta a variavel boleana ela ira retorna verdadeiro ou falso para cada posição da variavel, nesse caso a variavel 'div_by_3'.E possivel ainda usa a vareavel bolena como indice para o vetor arr ele ira retorna os indices para qual o valor logico for vedadeiro."
   ]
  },
  {
   "cell_type": "code",
   "execution_count": 61,
   "metadata": {},
   "outputs": [
    {
     "name": "stdout",
     "output_type": "stream",
     "text": [
      "[False False  True False False  True False False  True False]\n",
      "[12 15 18]\n"
     ]
    }
   ],
   "source": [
    " arr = np.arange(10, 20 )\n",
    "div_by_3 = arr%3 == 0 \n",
    "print(div_by_3)\n",
    "print(arr[div_by_3]) \n"
   ]
  },
  {
   "cell_type": "markdown",
   "metadata": {},
   "source": [
    "como ja visto a função arange e usado para cria um vetor de X posicoes que vai de 'A' a 'Z'.caso quiséssemos gera uma matriz apartir de um determinado intervalo precisaremos usa a função reshape e necessario passa como parâmetro a quantidade linhas e colunas que a matriz dever ter."
   ]
  },
  {
   "cell_type": "code",
   "execution_count": 71,
   "metadata": {},
   "outputs": [
    {
     "name": "stdout",
     "output_type": "stream",
     "text": [
      "[[10 11 12 13 14]\n",
      " [15 16 17 18 19]]\n"
     ]
    }
   ],
   "source": [
    "arr = np.arange(10, 20) . reshape((2,5))\n",
    "print (arr)"
   ]
  },
  {
   "cell_type": "code",
   "execution_count": null,
   "metadata": {},
   "outputs": [],
   "source": []
  }
 ],
 "metadata": {
  "kernelspec": {
   "display_name": "Python 3",
   "language": "python",
   "name": "python3"
  },
  "language_info": {
   "codemirror_mode": {
    "name": "ipython",
    "version": 3
   },
   "file_extension": ".py",
   "mimetype": "text/x-python",
   "name": "python",
   "nbconvert_exporter": "python",
   "pygments_lexer": "ipython3",
   "version": "3.6.5"
  }
 },
 "nbformat": 4,
 "nbformat_minor": 2
}
