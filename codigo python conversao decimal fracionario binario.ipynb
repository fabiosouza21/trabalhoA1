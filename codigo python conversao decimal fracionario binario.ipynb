{
 "cells": [
  {
   "cell_type": "markdown",
   "metadata": {},
   "source": [
    "abaixo esta o codigo para conversao de um valor decimal fracional em binario"
   ]
  },
  {
   "cell_type": "code",
   "execution_count": 1,
   "metadata": {},
   "outputs": [
    {
     "name": "stdout",
     "output_type": "stream",
     "text": [
      "digite o valor deciamal fracionario pra fazer a conversao10.58\n",
      "1010,10100000"
     ]
    }
   ],
   "source": [
    "def conversao_inteira(b):\n",
    "    A=[]\n",
    "    i = 0\t\n",
    "    while b!=1:\n",
    "        c=b%2\n",
    "        A.append(c)\n",
    "        b=b //2 \n",
    "        i+=1\n",
    "        if (b == 1):\n",
    "            A.append(1)\n",
    "    A.reverse()\n",
    "    for i in A:\n",
    "\t    print(i,end='')\n",
    "def conversao_fracionaria(a):\n",
    "    B=[]\n",
    "    for i in range(8):\n",
    "        a=a*2\n",
    "        if(a*2>1):\n",
    "            B.append(1)\n",
    "            a=a-1\n",
    "        else:\n",
    "            B.append(0)\n",
    "    for i in B:\n",
    "        print(i,end='')\n",
    "\n",
    "\n",
    "import math \n",
    "a = float (input(\"digite o valor deciamal fracionario pra fazer a conversao\"))\n",
    "b=math.floor(a)\n",
    "if(b>0):\n",
    "    conversao_inteira(b)\n",
    "else:\n",
    "    print('0',end='')\n",
    "print (',',end='')\n",
    "a=a-b\n",
    "conversao_fracionaria(a)\n"
   ]
  }
 ],
 "metadata": {
  "kernelspec": {
   "display_name": "Python 3",
   "language": "python",
   "name": "python3"
  },
  "language_info": {
   "codemirror_mode": {
    "name": "ipython",
    "version": 3
   },
   "file_extension": ".py",
   "mimetype": "text/x-python",
   "name": "python",
   "nbconvert_exporter": "python",
   "pygments_lexer": "ipython3",
   "version": "3.6.5"
  }
 },
 "nbformat": 4,
 "nbformat_minor": 2
}
